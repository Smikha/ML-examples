{
 "cells": [
  {
   "cell_type": "code",
   "execution_count": 1,
   "metadata": {},
   "outputs": [
    {
     "name": "stderr",
     "output_type": "stream",
     "text": [
      "C:\\Users\\sm\\Anaconda3\\lib\\site-packages\\h5py\\__init__.py:36: FutureWarning: Conversion of the second argument of issubdtype from `float` to `np.floating` is deprecated. In future, it will be treated as `np.float64 == np.dtype(float).type`.\n",
      "  from ._conv import register_converters as _register_converters\n"
     ]
    }
   ],
   "source": [
    "import tensorflow as tf \n",
    "import numpy\n",
    "import matplotlib.pyplot as plt\n",
    "rng = numpy.random"
   ]
  },
  {
   "cell_type": "code",
   "execution_count": 2,
   "metadata": {},
   "outputs": [],
   "source": [
    "learning_rate = 0.01\n",
    "training_epochs = 1000\n",
    "display_step = 50"
   ]
  },
  {
   "cell_type": "code",
   "execution_count": 11,
   "metadata": {},
   "outputs": [],
   "source": [
    "# Training data\n",
    "train_X = numpy.asarray([3.3,4.4,5.5,6.71,6.93,4.168,9.779,6.182,7.59,2.167,\n",
    "                         7.042,10.791,5.313,7.997,5.654,9.27,3.1])\n",
    "train_Y = numpy.asarray([1.7,2.76,2.09,3.19,1.694,1.573,3.366,2.596,2.53,1.221,\n",
    "                         2.827,3.465,1.65,2.904,2.42,2.94,1.3])\n",
    "n_samples = train_X.shape[0]"
   ]
  },
  {
   "cell_type": "code",
   "execution_count": 12,
   "metadata": {},
   "outputs": [],
   "source": [
    "X = tf.placeholder(\"float\")\n",
    "Y = tf.placeholder(\"float\")\n",
    "\n",
    "W = tf.Variable(rng.randn(), name=\"weight\")\n",
    "b = tf.Variable(rng.randn(), name=\"bias\")\n",
    "# Constructing the linear model\n",
    "pred = tf.add(tf.multiply(X,W), b)"
   ]
  },
  {
   "cell_type": "code",
   "execution_count": 15,
   "metadata": {},
   "outputs": [],
   "source": [
    "#Mean squared error (cost function)\n",
    "cost = tf.reduce_sum(tf.pow(pred-Y, 2)) / (2*n_samples)\n",
    "#Gradient descent\n",
    "optimizer = tf.train.GradientDescentOptimizer(learning_rate).minimize(cost)\n",
    "#initialize the variables with their default values\n",
    "init = tf.global_variables_initializer()"
   ]
  },
  {
   "cell_type": "code",
   "execution_count": 23,
   "metadata": {},
   "outputs": [
    {
     "name": "stdout",
     "output_type": "stream",
     "text": [
      "Epoch: 0050 cost= 0.089741655 W= 0.18676496 b= 1.253451\n",
      "Epoch: 0100 cost= 0.088275187 W= 0.19050197 b= 1.2265674\n",
      "Epoch: 0150 cost= 0.086977690 W= 0.19401652 b= 1.2012837\n",
      "Epoch: 0200 cost= 0.085829854 W= 0.19732164 b= 1.1775073\n",
      "Epoch: 0250 cost= 0.084814183 W= 0.20043017 b= 1.1551448\n",
      "Epoch: 0300 cost= 0.083915420 W= 0.2033539 b= 1.1341114\n",
      "Epoch: 0350 cost= 0.083120175 W= 0.20610376 b= 1.1143291\n",
      "Epoch: 0400 cost= 0.082416415 W= 0.20869023 b= 1.0957226\n",
      "Epoch: 0450 cost= 0.081793673 W= 0.21112272 b= 1.0782229\n",
      "Epoch: 0500 cost= 0.081242613 W= 0.21341066 b= 1.061764\n",
      "Epoch: 0550 cost= 0.080754943 W= 0.21556254 b= 1.0462835\n",
      "Epoch: 0600 cost= 0.080323316 W= 0.21758673 b= 1.0317215\n",
      "Epoch: 0650 cost= 0.079941347 W= 0.21949038 b= 1.018027\n",
      "Epoch: 0700 cost= 0.079603344 W= 0.22128075 b= 1.0051466\n",
      "Epoch: 0750 cost= 0.079304144 W= 0.22296484 b= 0.99303156\n",
      "Epoch: 0800 cost= 0.079039335 W= 0.22454873 b= 0.9816374\n",
      "Epoch: 0850 cost= 0.078804985 W= 0.22603841 b= 0.97092074\n",
      "Epoch: 0900 cost= 0.078597546 W= 0.22743951 b= 0.9608411\n",
      "Epoch: 0950 cost= 0.078413956 W= 0.22875705 b= 0.95136297\n",
      "Epoch: 1000 cost= 0.078251459 W= 0.22999623 b= 0.94244844\n",
      "optimization Finished!\n",
      "Training Cost= 0.07825146 W= 0.22999623 b= 0.94244844 \n",
      "\n"
     ]
    },
    {
     "data": {
      "image/png": "[encoded data removed]",
      "text/plain": [
       "<matplotlib.figure.Figure at 0x24bcd993ac8>"
      ]
     },
     "metadata": {},
     "output_type": "display_data"
    }
   ],
   "source": [
    "with tf.Session() as sess:\n",
    "    sess.run(init)\n",
    "    \n",
    "    #Fit all the training data\n",
    "    for epoch in range(training_epochs):\n",
    "        for(x, y) in zip(train_X, train_Y):\n",
    "            sess.run(optimizer, feed_dict={X: x, Y: y})\n",
    "        \n",
    "        # Display logs for each epoch step\n",
    "        # Dictionary must use curly braces\n",
    "        if (epoch+1) % display_step ==0:\n",
    "            c = sess.run(cost, feed_dict={X: train_X, Y: train_Y})\n",
    "            print (\"Epoch:\", '%04d' % (epoch+1), \"cost=\", \"{:.9f}\".format(c), \\\n",
    "                \"W=\", sess.run(W), \"b=\", sess.run(b))\n",
    "    print(\"optimization Finished!\")\n",
    "    training_cost = sess.run(cost, feed_dict={X: train_X, Y: train_Y})\n",
    "    print(\"Training Cost=\", training_cost, \"W=\", sess.run(W), \"b=\", sess.run(b), '\\n')\n",
    "    \n",
    "    #Grapghic display\n",
    "    plt.plot(train_X, train_Y, 'ro', label='Original Data')\n",
    "    plt.plot(train_X, sess.run(W) * train_X + sess.run(b), label='Fitted line')\n",
    "    plt.legend()\n",
    "    plt.show()"
   ]
  },
  {
   "cell_type": "code",
   "execution_count": null,
   "metadata": {},
   "outputs": [],
   "source": []
  }
 ],
 "metadata": {
  "kernelspec": {
   "display_name": "Python 3",
   "language": "python",
   "name": "python3"
  },
  "language_info": {
   "codemirror_mode": {
    "name": "ipython",
    "version": 3
   },
   "file_extension": ".py",
   "mimetype": "text/x-python",
   "name": "python",
   "nbconvert_exporter": "python",
   "pygments_lexer": "ipython3",
   "version": "3.6.4"
  }
 },
 "nbformat": 4,
 "nbformat_minor": 2
}
